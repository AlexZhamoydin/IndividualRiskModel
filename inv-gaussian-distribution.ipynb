{
 "cells": [
  {
   "cell_type": "code",
   "execution_count": 3,
   "id": "0084b2fa-1a80-413d-a770-bc59bc8b90b4",
   "metadata": {},
   "outputs": [],
   "source": [
    "import numpy as np\n",
    "import math\n",
    "from scipy.stats import norm\n",
    "import matplotlib.pyplot as plt"
   ]
  },
  {
   "cell_type": "code",
   "execution_count": 11,
   "id": "c5b0e2f5-98ec-4819-b633-cd814519b7eb",
   "metadata": {},
   "outputs": [],
   "source": [
    "nu = np.array([1, 2, 3], dtype='float')\n",
    "z = np.array([3, 4, 5])"
   ]
  },
  {
   "cell_type": "code",
   "execution_count": 12,
   "id": "39c98ba2-a989-4eff-9d88-2d8c32568c3d",
   "metadata": {},
   "outputs": [],
   "source": [
    "nu = np.array([\n",
    "    3, 4, 5, 1, 12, 10, 24, 13, 5, 25,\n",
    "])\n",
    "z = np.array([\n",
    "    15.6, 13.2, 18.4, 100.4, 18.6, 30.5, 40.3, 20.1, 10, 54.3\n",
    "])"
   ]
  },
  {
   "cell_type": "code",
   "execution_count": 13,
   "id": "9b40e3e2-5d13-4eb3-bcd0-6de2052da46d",
   "metadata": {},
   "outputs": [
    {
     "data": {
      "text/plain": [
       "(10, 10)"
      ]
     },
     "execution_count": 13,
     "metadata": {},
     "output_type": "execute_result"
    }
   ],
   "source": [
    "nu.size, z.size"
   ]
  },
  {
   "cell_type": "code",
   "execution_count": 6,
   "id": "f472a7e9-8bc6-4e04-8431-a6cda676ae3f",
   "metadata": {},
   "outputs": [],
   "source": [
    "def get_inv_gaussian_distribution_density(alpha, estimated_E):\n",
    "    def inv_gauss_distribution_density(x):\n",
    "        mu = estimated_E\n",
    "        a = alpha\n",
    "        first_exp = np.exp(\n",
    "            -(x/mu - 2 + mu/x) * a / 2\n",
    "        )\n",
    "        return first_exp * np.sqrt(mu * a) / np.sqrt(2 * np.pi * x**3)\n",
    "    return inv_gauss_distribution_density"
   ]
  },
  {
   "cell_type": "code",
   "execution_count": 7,
   "id": "6030e77f-5d09-4df5-85df-d924c0f2129a",
   "metadata": {},
   "outputs": [],
   "source": [
    "def get_inv_gaussian_distribution(alpha, estimated_E):\n",
    "    def inv_gaussian_distribution(x):\n",
    "        mu = estimated_E\n",
    "        a = alpha\n",
    "        f1 = norm.pdf(\n",
    "            np.sqrt(a * x / mu) - np.sqrt(a * mu / x)\n",
    "        )\n",
    "        f2 = norm.pdf(\n",
    "            -np.sqrt(a * x / mu) - np.sqrt(a * mu / x)\n",
    "        )\n",
    "        return f1 + np.e**(2 * a) * f2\n",
    "    return inv_gaussian_distribution"
   ]
  },
  {
   "cell_type": "code",
   "execution_count": 15,
   "id": "83b0a267-d659-4458-bd4a-89490fd2b702",
   "metadata": {},
   "outputs": [],
   "source": [
    "def estimate_E(nu, z):\n",
    "    return np.sum(nu * z) / np.sum(nu)"
   ]
  },
  {
   "cell_type": "code",
   "execution_count": 16,
   "id": "c9dd422f-a519-4430-a206-131908e4de6d",
   "metadata": {},
   "outputs": [],
   "source": [
    "def estimate_alpha(nu, z, estimated_E):\n",
    "    J = nu.size\n",
    "    return J / np.sum(nu * (estimated_E / z - 1))"
   ]
  },
  {
   "cell_type": "code",
   "execution_count": 19,
   "id": "57450573-92b1-4969-b78b-c4c20a9e7ea2",
   "metadata": {},
   "outputs": [
    {
     "data": {
      "text/plain": [
       "(33.884313725490195, 0.31311669228198596)"
      ]
     },
     "execution_count": 19,
     "metadata": {},
     "output_type": "execute_result"
    }
   ],
   "source": [
    "estimated_E = estimate_E(nu, z)\n",
    "alpha = estimate_alpha(nu, z, estimated_E)\n",
    "estimated_E, alpha"
   ]
  },
  {
   "cell_type": "markdown",
   "id": "43991f3d-5164-46a1-a631-46caab8c6105",
   "metadata": {},
   "source": [
    "## Plots"
   ]
  },
  {
   "cell_type": "code",
   "execution_count": 20,
   "id": "a8e2a75f-c572-480e-b7f2-3d64b0fddac5",
   "metadata": {},
   "outputs": [],
   "source": [
    "x_ = np.arange(0, 2, 0.0001)"
   ]
  },
  {
   "cell_type": "code",
   "execution_count": 21,
   "id": "a3aeac88-51e8-4240-bc54-dc21fe86ff97",
   "metadata": {},
   "outputs": [],
   "source": [
    "inv_gaussian_distribution = get_inv_gaussian_distribution(alpha, estimated_E)"
   ]
  },
  {
   "cell_type": "code",
   "execution_count": 22,
   "id": "9893e521-19f0-46ec-9e8e-5e37b6fa9a0c",
   "metadata": {},
   "outputs": [
    {
     "name": "stderr",
     "output_type": "stream",
     "text": [
      "C:\\Users\\ZHAMOI~1\\AppData\\Local\\Temp/ipykernel_4184/1982654093.py:6: RuntimeWarning: divide by zero encountered in true_divide\n",
      "  np.sqrt(a * x / mu) - np.sqrt(a * mu / x)\n",
      "C:\\Users\\ZHAMOI~1\\AppData\\Local\\Temp/ipykernel_4184/1982654093.py:9: RuntimeWarning: divide by zero encountered in true_divide\n",
      "  -np.sqrt(a * x / mu) - np.sqrt(a * mu / x)\n"
     ]
    },
    {
     "data": {
      "image/png": "[encoded data removed]",
      "text/plain": [
       "<Figure size 432x288 with 1 Axes>"
      ]
     },
     "metadata": {
      "needs_background": "light"
     },
     "output_type": "display_data"
    }
   ],
   "source": [
    "plt.plot(x_, inv_gaussian_distribution(x_), label=fr\"$\\alpha$ = {alpha:.5}, $\\mu$ = {estimated_E:.5}\", color='red')\n",
    "plt.legend()\n",
    "plt.show()"
   ]
  },
  {
   "cell_type": "code",
   "execution_count": 23,
   "id": "67b53528-5491-4740-99af-cd810e55b3cd",
   "metadata": {},
   "outputs": [],
   "source": [
    "inv_gaussian_distribution_density = get_inv_gaussian_distribution_density(alpha, estimated_E)"
   ]
  },
  {
   "cell_type": "code",
   "execution_count": 28,
   "id": "be266119-5961-425d-85de-b82be3cfd954",
   "metadata": {},
   "outputs": [
    {
     "name": "stderr",
     "output_type": "stream",
     "text": [
      "C:\\Users\\ZHAMOI~1\\AppData\\Local\\Temp/ipykernel_4184/1519827272.py:6: RuntimeWarning: divide by zero encountered in true_divide\n",
      "  -(x/mu - 2 + mu/x) * a / 2\n",
      "C:\\Users\\ZHAMOI~1\\AppData\\Local\\Temp/ipykernel_4184/1519827272.py:8: RuntimeWarning: invalid value encountered in true_divide\n",
      "  return first_exp * np.sqrt(mu * a) / np.sqrt(2 * np.pi * x**3)\n"
     ]
    },
    {
     "data": {
      "image/png": "[encoded data removed]",
      "text/plain": [
       "<Figure size 432x288 with 1 Axes>"
      ]
     },
     "metadata": {
      "needs_background": "light"
     },
     "output_type": "display_data"
    }
   ],
   "source": [
    "plt.plot(x_, inv_gaussian_distribution_density(x_), label=fr\"$\\alpha$ = {alpha:.5}, $\\mu$ = {estimated_E:.5}\", color='red')\n",
    "plt.xlim((0, 2))\n",
    "plt.ylim((0, 12))\n",
    "plt.legend()\n",
    "plt.show()"
   ]
  },
  {
   "cell_type": "markdown",
   "id": "38c40f8d-8d45-4505-9376-d628c7974451",
   "metadata": {},
   "source": [
    "## Different $\\alpha$ variations with fixed $\\mu=1$"
   ]
  },
  {
   "cell_type": "code",
   "execution_count": 27,
   "id": "dec14542-ae58-4e99-a53f-48b7a708e243",
   "metadata": {},
   "outputs": [
    {
     "name": "stderr",
     "output_type": "stream",
     "text": [
      "C:\\Users\\ZHAMOI~1\\AppData\\Local\\Temp/ipykernel_4184/1519827272.py:6: RuntimeWarning: divide by zero encountered in true_divide\n",
      "  -(x/mu - 2 + mu/x) * a / 2\n",
      "C:\\Users\\ZHAMOI~1\\AppData\\Local\\Temp/ipykernel_4184/1519827272.py:8: RuntimeWarning: invalid value encountered in true_divide\n",
      "  return first_exp * np.sqrt(mu * a) / np.sqrt(2 * np.pi * x**3)\n",
      "C:\\Users\\ZHAMOI~1\\AppData\\Local\\Temp/ipykernel_4184/1519827272.py:6: RuntimeWarning: divide by zero encountered in true_divide\n",
      "  -(x/mu - 2 + mu/x) * a / 2\n",
      "C:\\Users\\ZHAMOI~1\\AppData\\Local\\Temp/ipykernel_4184/1519827272.py:8: RuntimeWarning: invalid value encountered in true_divide\n",
      "  return first_exp * np.sqrt(mu * a) / np.sqrt(2 * np.pi * x**3)\n"
     ]
    },
    {
     "data": {
      "image/png": "[encoded data removed]",
      "text/plain": [
       "<Figure size 432x288 with 1 Axes>"
      ]
     },
     "metadata": {
      "needs_background": "light"
     },
     "output_type": "display_data"
    }
   ],
   "source": [
    "plt.plot(x_, get_inv_gaussian_distribution_density(125, 1)(x_), label=\"125\", color='red')\n",
    "plt.plot(x_, get_inv_gaussian_distribution_density(25, 1)(x_), label=\"25\", color='blue')\n",
    "\n",
    "plt.legend()\n",
    "plt.ylim((0, 12))\n",
    "plt.show()"
   ]
  },
  {
   "cell_type": "code",
   "execution_count": null,
   "id": "4c5d4d23-03eb-4821-9941-4364c1eee338",
   "metadata": {},
   "outputs": [],
   "source": []
  }
 ],
 "metadata": {
  "kernelspec": {
   "display_name": "Python 3",
   "language": "python",
   "name": "python3"
  },
  "language_info": {
   "codemirror_mode": {
    "name": "ipython",
    "version": 3
   },
   "file_extension": ".py",
   "mimetype": "text/x-python",
   "name": "python",
   "nbconvert_exporter": "python",
   "pygments_lexer": "ipython3",
   "version": "3.8.8"
  }
 },
 "nbformat": 4,
 "nbformat_minor": 5
}
