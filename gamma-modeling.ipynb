{
 "cells": [
  {
   "cell_type": "code",
   "execution_count": 1,
   "id": "9532ad60-959f-46e4-9c70-17d3e1541262",
   "metadata": {},
   "outputs": [],
   "source": [
    "import numpy as np\n",
    "import math\n",
    "from scipy.special import gamma, gammainc\n",
    "import matplotlib.pyplot as plt"
   ]
  },
  {
   "cell_type": "code",
   "execution_count": 2,
   "id": "fac7f835-a623-4c5f-8abf-eeebc4622df3",
   "metadata": {},
   "outputs": [],
   "source": [
    "nu = np.array([1, 2, 3], dtype='float')\n",
    "z = np.array([3, 4, 5])"
   ]
  },
  {
   "cell_type": "code",
   "execution_count": 3,
   "id": "1495fa1a-266d-494c-a82e-9245720df4c2",
   "metadata": {},
   "outputs": [],
   "source": [
    "nu = np.array([\n",
    "    3, 4, 5, 8, 12, 13, 24, 13, 17, 25, 25, 42\n",
    "])\n",
    "z = np.array([\n",
    "    15.6, 79.4, 44.6, 51.5, 19.4, 38.6, 133.3, 38.6, 40.5, 20.4, 21.8, 87.2\n",
    "])"
   ]
  },
  {
   "cell_type": "code",
   "execution_count": 4,
   "id": "a4458238-0e3e-45ea-afcc-251940cf3147",
   "metadata": {},
   "outputs": [
    {
     "data": {
      "text/plain": [
       "(12, 12)"
      ]
     },
     "execution_count": 4,
     "metadata": {},
     "output_type": "execute_result"
    }
   ],
   "source": [
    "nu.size, z.size"
   ]
  },
  {
   "cell_type": "code",
   "execution_count": 5,
   "id": "8a1efac2-60b8-421b-8719-bba38dae4233",
   "metadata": {},
   "outputs": [],
   "source": [
    "def get_gamma_distribution(alpha, estimated_E):\n",
    "    def gamma_distribution(x):\n",
    "        return gammainc(alpha, alpha*x*estimated_E)\n",
    "#         return np.exp(-x*alpha/estimated_E) * x**(alpha-1) * (alpha/estimated_E)**alpha / gamma(alpha)\n",
    "    return gamma_distribution"
   ]
  },
  {
   "cell_type": "code",
   "execution_count": 6,
   "id": "5898e6d2-8e1a-4382-b6fc-6019f5d4ae16",
   "metadata": {},
   "outputs": [],
   "source": [
    "def estimate_E(nu, z):\n",
    "    return (nu * z).sum() / nu.sum()"
   ]
  },
  {
   "cell_type": "code",
   "execution_count": 7,
   "id": "7a143d9b-09b4-4f1e-a0dd-172047234c3b",
   "metadata": {},
   "outputs": [],
   "source": [
    "def psi_approximation(x):\n",
    "    return np.log(x) - x**(-1)/2 - x**(-2)/12 + (x**(-4) - 0.46*x**(-6))/120"
   ]
  },
  {
   "cell_type": "code",
   "execution_count": 8,
   "id": "1e0bd901-df73-481b-9b55-4e5c1794c85e",
   "metadata": {},
   "outputs": [],
   "source": [
    "def count_zero_alpha(estimated_E, nu, z):\n",
    "    return estimated_E**2 * (nu.size - 1) / (nu * (z - estimated_E)**2).sum()"
   ]
  },
  {
   "cell_type": "code",
   "execution_count": 9,
   "id": "31a81859-2175-45c5-a5a0-179eee45ab0b",
   "metadata": {},
   "outputs": [],
   "source": [
    "def count_next_alpha(prev_alpha, estimated_E, nu, z):\n",
    "    def frac(integer):\n",
    "        return 1 / (prev_alpha * nu + integer)\n",
    "    def complex_log():\n",
    "        return np.log(\n",
    "            prev_alpha * nu * z / estimated_E\n",
    "        )\n",
    "    J = nu.size\n",
    "    next_alpha = J / np.sum(\n",
    "        nu * (psi_approximation(prev_alpha * nu + 5) - frac(4) - frac(3) - frac(2) - frac(1)) - complex_log()\n",
    "    )\n",
    "    return next_alpha"
   ]
  },
  {
   "cell_type": "code",
   "execution_count": 10,
   "id": "21272de9-e939-41f9-a12d-834df14c8a49",
   "metadata": {},
   "outputs": [
    {
     "data": {
      "text/plain": [
       "(56.75863874345549, 0.12609417884329027)"
      ]
     },
     "execution_count": 10,
     "metadata": {},
     "output_type": "execute_result"
    }
   ],
   "source": [
    "estimated_E = estimate_E(nu, z)\n",
    "zero_alpha = count_zero_alpha(estimated_E, nu, z)\n",
    "estimated_E, zero_alpha"
   ]
  },
  {
   "cell_type": "code",
   "execution_count": 11,
   "id": "f22745c9-3e98-454b-b462-09437e3ce126",
   "metadata": {},
   "outputs": [
    {
     "data": {
      "text/plain": [
       "0.07838528207824014"
      ]
     },
     "execution_count": 11,
     "metadata": {},
     "output_type": "execute_result"
    }
   ],
   "source": [
    "alpha = zero_alpha\n",
    "for i in range(200):\n",
    "    alpha = count_next_alpha(alpha, estimated_E, nu, z)\n",
    "alpha"
   ]
  },
  {
   "cell_type": "code",
   "execution_count": 12,
   "id": "74fd9585-7a83-4f18-b8e0-2578760bdc45",
   "metadata": {},
   "outputs": [],
   "source": [
    "gamma_distribution = get_gamma_distribution(alpha, estimated_E)"
   ]
  },
  {
   "cell_type": "code",
   "execution_count": 13,
   "id": "868e77e5-b0b3-4b1e-84aa-296be33738de",
   "metadata": {},
   "outputs": [],
   "source": [
    "x_ = np.arange(0, 1, 0.0001)"
   ]
  },
  {
   "cell_type": "code",
   "execution_count": 14,
   "id": "98acb97e-9a06-404a-b539-e588bbc6f213",
   "metadata": {},
   "outputs": [
    {
     "data": {
      "image/png": "[encoded data removed]",
      "text/plain": [
       "<Figure size 432x288 with 1 Axes>"
      ]
     },
     "metadata": {
      "needs_background": "light"
     },
     "output_type": "display_data"
    }
   ],
   "source": [
    "plt.plot(x_, gamma_distribution(x_), label=fr\"$\\alpha$ = {alpha:.5}, $\\mu$ = {estimated_E:.5}\", color='red')\n",
    "plt.legend()\n",
    "plt.show()"
   ]
  }
 ],
 "metadata": {
  "kernelspec": {
   "display_name": "Python 3",
   "language": "python",
   "name": "python3"
  },
  "language_info": {
   "codemirror_mode": {
    "name": "ipython",
    "version": 3
   },
   "file_extension": ".py",
   "mimetype": "text/x-python",
   "name": "python",
   "nbconvert_exporter": "python",
   "pygments_lexer": "ipython3",
   "version": "3.8.8"
  }
 },
 "nbformat": 4,
 "nbformat_minor": 5
}
